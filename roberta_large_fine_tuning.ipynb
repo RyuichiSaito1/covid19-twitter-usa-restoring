{
  "nbformat": 4,
  "nbformat_minor": 0,
  "metadata": {
    "colab": {
      "provenance": [],
      "gpuType": "T4",
      "authorship_tag": "ABX9TyNlIcibS272d2LlOXUVSFj9",
      "include_colab_link": true
    },
    "kernelspec": {
      "name": "python3",
      "display_name": "Python 3"
    },
    "language_info": {
      "name": "python"
    },
    "accelerator": "GPU"
  },
  "cells": [
    {
      "cell_type": "markdown",
      "metadata": {
        "id": "view-in-github",
        "colab_type": "text"
      },
      "source": [
        "<a href=\"https://colab.research.google.com/github/RyuichiSaito1/covid19-twitter-usa-restoring/blob/main/roberta_large_fine_tuning.ipynb\" target=\"_parent\"><img src=\"https://colab.research.google.com/assets/colab-badge.svg\" alt=\"Open In Colab\"/></a>"
      ]
    },
    {
      "cell_type": "code",
      "execution_count": null,
      "metadata": {
        "id": "-V7lWFat-BGx"
      },
      "outputs": [],
      "source": [
        "from google.colab import drive\n",
        "drive.mount('/content/drive')\n",
        "\n",
        "from google.colab import auth\n",
        "auth.authenticate_user()"
      ]
    },
    {
      "cell_type": "code",
      "source": [
        "!pip install transformers\n",
        "!pip install torch\n",
        "!pip install accelerate\n",
        "!pip install --upgrade accelerate\n",
        "# After installing, restart the runtime."
      ],
      "metadata": {
        "id": "n3MUBykt_6g7"
      },
      "execution_count": null,
      "outputs": []
    },
    {
      "cell_type": "code",
      "source": [
        "import pandas as pd\n",
        "\n",
        "train_file_path = '/content/drive/MyDrive/covid-twitter-usa-normal/data/training_data/gpt-3.5/training_data_2021_shuffle_majority_vote_gpt3.5.tsv'\n",
        "val_file_path = '/content/drive/MyDrive/covid-twitter-usa-normal/data/training_data/gpt-3.5/validation_data_2021_shuffle_majority_vote_gpt3.5.tsv'\n",
        "\n",
        "# Load the training data\n",
        "train_data = pd.read_table(train_file_path, names=['text', 'label'], dtype='object', engine='python')\n",
        "\n",
        "# Load the validation data\n",
        "val_data = pd.read_table(val_file_path, names=['text', 'label'], dtype='object', engine='python')\n",
        "\n",
        "# Convert the string labels to integers\n",
        "y_train = [int(label) for label in train_data['label']]\n",
        "y_val = [int(label) for label in val_data['label']]\n"
      ],
      "metadata": {
        "id": "Blwv05H2ABPF"
      },
      "execution_count": null,
      "outputs": []
    },
    {
      "cell_type": "code",
      "source": [
        "from transformers import RobertaTokenizer\n",
        "\n",
        "# Initialize the tokenizer\n",
        "tokenizer = RobertaTokenizer.from_pretrained('roberta-large')\n",
        "\n",
        "# Encode the training data\n",
        "train_encodings = tokenizer(train_data['text'].tolist(), truncation=True, padding=True)\n",
        "\n",
        "# Encode the validation data\n",
        "val_encodings = tokenizer(val_data['text'].tolist(), truncation=True, padding=True)"
      ],
      "metadata": {
        "id": "mo5I94NEiWUK"
      },
      "execution_count": null,
      "outputs": []
    },
    {
      "cell_type": "code",
      "source": [
        "import torch\n",
        "\n",
        "class TweetDataset(torch.utils.data.Dataset):\n",
        "    def __init__(self, encodings, labels):\n",
        "        self.encodings = encodings\n",
        "        self.labels = labels\n",
        "\n",
        "    def __getitem__(self, idx):\n",
        "        item = {key: torch.tensor(val[idx]) for key, val in self.encodings.items()}\n",
        "        item['labels'] = torch.tensor(self.labels[idx])\n",
        "        return item\n",
        "\n",
        "    def __len__(self):\n",
        "        return len(self.labels)\n",
        "\n",
        "# Create the training dataset\n",
        "train_dataset = TweetDataset(train_encodings, y_train)\n",
        "\n",
        "# Create the validation dataset\n",
        "val_dataset = TweetDataset(val_encodings, y_val)"
      ],
      "metadata": {
        "id": "R37Xd-M8ieg5"
      },
      "execution_count": null,
      "outputs": []
    },
    {
      "cell_type": "code",
      "source": [
        "from transformers import RobertaForSequenceClassification, Trainer, TrainingArguments\n",
        "from accelerate import Accelerator\n",
        "\n",
        "# Set up the training arguments\n",
        "training_args = TrainingArguments(\n",
        "    output_dir='/content/drive/MyDrive/covid-twitter-usa-normal/models/roberta-large/results',\n",
        "    num_train_epochs=3,\n",
        "    per_device_train_batch_size=16,\n",
        "    per_device_eval_batch_size=64,\n",
        "    warmup_steps=500,\n",
        "    weight_decay=0.01,\n",
        "    logging_dir='/content/drive/MyDrive/covid-twitter-usa-normal/models/roberta-large/logs',\n",
        "    logging_steps=10,\n",
        "    save_strategy='epoch',\n",
        ")\n",
        "\n",
        "# Initialize the model\n",
        "model = RobertaForSequenceClassification.from_pretrained('roberta-large', num_labels=3)\n",
        "\n",
        "# Initialize the trainer\n",
        "trainer = Trainer(\n",
        "    model=model,\n",
        "    args=training_args,\n",
        "    train_dataset=train_dataset,\n",
        "    eval_dataset=val_dataset\n",
        ")\n",
        "\n",
        "# Train the model\n",
        "trainer.train()\n",
        "\n",
        "# Evaluate the model\n",
        "trainer.evaluate()"
      ],
      "metadata": {
        "id": "AKR9DmrTjOFM"
      },
      "execution_count": null,
      "outputs": []
    }
  ]
}