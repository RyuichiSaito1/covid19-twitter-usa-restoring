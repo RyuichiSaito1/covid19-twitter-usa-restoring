{
  "nbformat": 4,
  "nbformat_minor": 0,
  "metadata": {
    "colab": {
      "provenance": [],
      "authorship_tag": "ABX9TyPIiH4FaAWmDOdfkDQjybRP",
      "include_colab_link": true
    },
    "kernelspec": {
      "name": "python3",
      "display_name": "Python 3"
    },
    "language_info": {
      "name": "python"
    }
  },
  "cells": [
    {
      "cell_type": "markdown",
      "metadata": {
        "id": "view-in-github",
        "colab_type": "text"
      },
      "source": [
        "<a href=\"https://colab.research.google.com/github/RyuichiSaito1/covid19-twitter-usa-restoring/blob/main/unique_users.ipynb\" target=\"_parent\"><img src=\"https://colab.research.google.com/assets/colab-badge.svg\" alt=\"Open In Colab\"/></a>"
      ]
    },
    {
      "cell_type": "code",
      "execution_count": null,
      "metadata": {
        "colab": {
          "base_uri": "https://localhost:8080/"
        },
        "id": "E1Xmn1BYqzLQ",
        "outputId": "58747b50-8fc8-49cc-b2f3-e8afb5ded1d6"
      },
      "outputs": [
        {
          "output_type": "stream",
          "name": "stdout",
          "text": [
            "Mounted at /content/drive\n"
          ]
        }
      ],
      "source": [
        "from google.colab import drive\n",
        "drive.mount('/content/drive')"
      ]
    },
    {
      "cell_type": "markdown",
      "source": [
        "# New York City"
      ],
      "metadata": {
        "id": "NCibq3aosmHy"
      }
    },
    {
      "cell_type": "code",
      "source": [
        "import pandas as pd\n",
        "from pathlib import Path\n",
        "\n",
        "# Paths to Google Drive directories\n",
        "directory_paths = ['/content/drive/My Drive/covid-twitter-usa-normal/data/collection_data/new_york_city/1/1/',\n",
        "                   '/content/drive/My Drive/covid-twitter-usa-normal/data/collection_data/new_york_city/2/1/',\n",
        "                   '/content/drive/My Drive/covid-twitter-usa-normal/data/collection_data/new_york_city/3/1/']\n",
        "\n",
        "# Read all TSV files and concatenate the data\n",
        "all_data = pd.concat([pd.read_table(Path(directory) / file, names=('author_id', 'time', 'id', 'text', 'place'), sep='\\t') for directory in directory_paths for file in Path(directory).iterdir()])\n",
        "\n",
        "# Count the number of unique author_ids\n",
        "unique_author_ids = all_data['author_id'].nunique()\n",
        "\n",
        "# Count the number of records with missing author_ids\n",
        "missing_author_ids = all_data['author_id'].isnull().sum()\n",
        "\n",
        "# Print the results to the standard output\n",
        "print(f\"Number of unique author_ids: {unique_author_ids}\")\n",
        "print(f\"Number of records with missing author_ids: {missing_author_ids}\")\n"
      ],
      "metadata": {
        "colab": {
          "base_uri": "https://localhost:8080/"
        },
        "id": "NRBum7_mq0Kx",
        "outputId": "73088ed8-a791-4980-a41c-1cd50e355d14"
      },
      "execution_count": null,
      "outputs": [
        {
          "output_type": "stream",
          "name": "stdout",
          "text": [
            "Number of unique author_ids: 20575\n",
            "Number of records with missing author_ids: 113\n"
          ]
        }
      ]
    },
    {
      "cell_type": "markdown",
      "source": [
        "# Los Angles"
      ],
      "metadata": {
        "id": "tiY5fKpJsrFr"
      }
    },
    {
      "cell_type": "code",
      "source": [
        "import pandas as pd\n",
        "from pathlib import Path\n",
        "\n",
        "# Paths to Google Drive directories\n",
        "directory_paths = ['/content/drive/My Drive/covid-twitter-usa-normal/data/collection_data/los_angeles/1/1/',\n",
        "                   '/content/drive/My Drive/covid-twitter-usa-normal/data/collection_data/los_angeles/2/1/',\n",
        "                   '/content/drive/My Drive/covid-twitter-usa-normal/data/collection_data/los_angeles/3/1/']\n",
        "\n",
        "# Read all TSV files and concatenate the data\n",
        "all_data = pd.concat([pd.read_table(Path(directory) / file, names=('author_id', 'time', 'id', 'text', 'place'), sep='\\t') for directory in directory_paths for file in Path(directory).iterdir()])\n",
        "\n",
        "# Count the number of unique author_ids\n",
        "unique_author_ids = all_data['author_id'].nunique()\n",
        "\n",
        "# Count the number of records with missing author_ids\n",
        "missing_author_ids = all_data['author_id'].isnull().sum()\n",
        "\n",
        "# Print the results to the standard output\n",
        "print(f\"Number of unique author_ids: {unique_author_ids}\")\n",
        "print(f\"Number of records with missing author_ids: {missing_author_ids}\")\n"
      ],
      "metadata": {
        "colab": {
          "base_uri": "https://localhost:8080/"
        },
        "id": "zKNvuAYLsLno",
        "outputId": "74a1cfff-0b5b-49c8-db7e-b33190a2c9c6"
      },
      "execution_count": null,
      "outputs": [
        {
          "output_type": "stream",
          "name": "stdout",
          "text": [
            "Number of unique author_ids: 17588\n",
            "Number of records with missing author_ids: 0\n"
          ]
        }
      ]
    },
    {
      "cell_type": "markdown",
      "source": [
        "# Chicago"
      ],
      "metadata": {
        "id": "sRaehC9utLfu"
      }
    },
    {
      "cell_type": "code",
      "source": [
        "import pandas as pd\n",
        "from pathlib import Path\n",
        "\n",
        "# Paths to Google Drive directories\n",
        "directory_paths = ['/content/drive/My Drive/covid-twitter-usa-normal/data/collection_data/chicago/1/1/',\n",
        "                   '/content/drive/My Drive/covid-twitter-usa-normal/data/collection_data/chicago/2/1/',\n",
        "                   '/content/drive/My Drive/covid-twitter-usa-normal/data/collection_data/chicago/3/1/']\n",
        "\n",
        "# Read all TSV files and concatenate the data\n",
        "all_data = pd.concat([pd.read_table(Path(directory) / file, names=('author_id', 'time', 'id', 'text', 'place'), sep='\\t') for directory in directory_paths for file in Path(directory).iterdir()])\n",
        "\n",
        "# Count the number of unique author_ids\n",
        "unique_author_ids = all_data['author_id'].nunique()\n",
        "\n",
        "# Count the number of records with missing author_ids\n",
        "missing_author_ids = all_data['author_id'].isnull().sum()\n",
        "\n",
        "# Print the results to the standard output\n",
        "print(f\"Number of unique author_ids: {unique_author_ids}\")\n",
        "print(f\"Number of records with missing author_ids: {missing_author_ids}\")\n"
      ],
      "metadata": {
        "colab": {
          "base_uri": "https://localhost:8080/"
        },
        "id": "pvO5EJiUswMJ",
        "outputId": "10953c27-825d-4da4-853a-7d73d95f478d"
      },
      "execution_count": null,
      "outputs": [
        {
          "output_type": "stream",
          "name": "stdout",
          "text": [
            "Number of unique author_ids: 8948\n",
            "Number of records with missing author_ids: 0\n"
          ]
        }
      ]
    },
    {
      "cell_type": "code",
      "source": [],
      "metadata": {
        "id": "YuxwVE30trs9"
      },
      "execution_count": null,
      "outputs": []
    }
  ]
}