{
  "nbformat": 4,
  "nbformat_minor": 0,
  "metadata": {
    "colab": {
      "provenance": [],
      "authorship_tag": "ABX9TyNUl6KMckG290q33jY6zHvR",
      "include_colab_link": true
    },
    "kernelspec": {
      "name": "python3",
      "display_name": "Python 3"
    },
    "language_info": {
      "name": "python"
    }
  },
  "cells": [
    {
      "cell_type": "markdown",
      "metadata": {
        "id": "view-in-github",
        "colab_type": "text"
      },
      "source": [
        "<a href=\"https://colab.research.google.com/github/RyuichiSaito1/covid19-twitter-usa-restoring/blob/main/convert_tsv_to_jsonl_for_gpt3_5_finetuning.ipynb\" target=\"_parent\"><img src=\"https://colab.research.google.com/assets/colab-badge.svg\" alt=\"Open In Colab\"/></a>"
      ]
    },
    {
      "cell_type": "code",
      "execution_count": null,
      "metadata": {
        "id": "_Tg8sTp0lFA1"
      },
      "outputs": [],
      "source": [
        "from google.colab import drive\n",
        "drive.mount('/content/drive')\n",
        "\n",
        "!pip install --upgrade openai\n",
        "\n",
        "!pip install pandas"
      ]
    },
    {
      "cell_type": "code",
      "source": [
        "import json\n",
        "import pandas as pd\n",
        "\n",
        "# Path to the TSV file on Google Drive\n",
        "tsv_file_path = '/content/drive/MyDrive/covid-twitter-usa-normal/data/training_data/gpt-3.5/validation_data_2021_shuffle_majority_vote_gpt3.5.tsv'\n",
        "\n",
        "# Path to save the JSONL file\n",
        "jsonl_file_path = '/content/drive/MyDrive/covid-twitter-usa-normal/data/training_data/gpt-3.5/validation_data_2021_shuffle_majority_vote_gpt3.5.jsonl'\n",
        "\n",
        "def convert_to_new_format(prompt, completion):\n",
        "    # Convert the data to the new JSONL format\n",
        "    new_data = {\n",
        "        \"messages\": [\n",
        "            {\"role\": \"system\", \"content\": \"You are a sentiment classifier of tweets from citizens of a large US city collected during the COVID-19 pandemic. Classify into three values: 0 for positive, 1 for neutral, and 2 for negative. Positive sentiment include: admire, amazing, assure, celebration, charm, eager, enthusiastic, excellent, fancy, fantastic, frolic, graceful, happy, joy, luck, majesty, mercy, nice, patience, perfect, proud, rejoice, relief, respect, satisfactorily, sensational, super, terrific, thank, vivid, wise, wonderful, zest, expectations and etc. Negative sentiment include: abominable, anger, anxious, bad, catastrophe, cheap, complaint, condescending, deceit, defective, disappointment, embarrass, fake, fear, filthy, fool, guilt, hate, idiot, inflict, lazy, miserable, mourn, nervous, objection, pest, plot, reject, scream, silly, terrible, unfriendly, vile, wicked, and etc. Neutral sentiment: neither positive or negative, such as text without sentiment, stating a fact, question, news article, advertisement, solicitation, request, quote, unintelligible text, and etc. When the sentiment is mixed, such as both joy and sadness, use your judgment to choose the stronger emotion.\"},\n",
        "            {\"role\": \"user\", \"content\": prompt},\n",
        "            {\"role\": \"assistant\", \"content\": str(completion)} # Surround completion with double quotes\n",
        "        ]\n",
        "    }\n",
        "    return new_data\n",
        "\n",
        "# Read the TSV file using pd.read_table, skipping the first row as header\n",
        "df = pd.read_table(tsv_file_path, names=('Prompt', 'Completion'), skiprows=1)\n",
        "\n",
        "# Convert to JSONL format and save\n",
        "top_10_data = []\n",
        "with open(jsonl_file_path, 'w') as jsonl_file:\n",
        "    for index, row in df.iterrows():\n",
        "        prompt_text = row['Prompt']\n",
        "        completion_text = row['Completion']\n",
        "\n",
        "        new_data = convert_to_new_format(prompt_text, completion_text)\n",
        "\n",
        "        # Write each data as a line in the JSONL file with ensure_ascii=False\n",
        "        jsonl_file.write(json.dumps(new_data, ensure_ascii=False) + '\\n')\n",
        "\n",
        "        # Collect data for top 10 output\n",
        "        top_10_data.append((prompt_text, completion_text))\n",
        "\n",
        "print(f\"Conversion completed. JSONL file saved at: {jsonl_file_path}\")\n",
        "\n",
        "# Display the top 10 data\n",
        "print(\"Top 10 Data:\")\n",
        "for i, (prompt, completion) in enumerate(top_10_data[:10]):\n",
        "    print(f\"{i + 1}. Prompt: {prompt}\\n   Completion: {completion}\\n\")"
      ],
      "metadata": {
        "id": "rzlsjnL_lGgI"
      },
      "execution_count": null,
      "outputs": []
    }
  ]
}